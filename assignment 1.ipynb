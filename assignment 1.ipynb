{
 "cells": [
  {
   "cell_type": "markdown",
   "metadata": {},
   "source": [
    "# SUM OF N NATURAL NUMBER"
   ]
  },
  {
   "cell_type": "code",
   "execution_count": 49,
   "metadata": {},
   "outputs": [
    {
     "name": "stdout",
     "output_type": "stream",
     "text": [
      "55\n"
     ]
    }
   ],
   "source": [
    "s=0\n",
    "def sumofnaturalnumber(n):\n",
    "    if n<0:\n",
    "        print('enter the natural no')\n",
    "    else:\n",
    "        for i in range(1,n+1):\n",
    "            global s\n",
    "            s=s+i\n",
    "        print(s)\n",
    "sumofnaturalnumber(10)\n",
    "        \n",
    "    \n",
    "        \n",
    "            \n",
    "       "
   ]
  },
  {
   "cell_type": "code",
   "execution_count": 43,
   "metadata": {},
   "outputs": [
    {
     "data": {
      "text/plain": [
       "'554321'"
      ]
     },
     "execution_count": 43,
     "metadata": {},
     "output_type": "execute_result"
    }
   ],
   "source": [
    "N='1234556789'\n",
    "N[5::-1]"
   ]
  },
  {
   "cell_type": "code",
   "execution_count": 47,
   "metadata": {},
   "outputs": [
    {
     "name": "stdout",
     "output_type": "stream",
     "text": [
      "153 given no is armstrong no\n"
     ]
    }
   ],
   "source": [
    "n=153\n",
    "t=int(n)\n",
    "s=0\n",
    "while(t>0):\n",
    "    r=int(t%10)\n",
    "    \n",
    "    m=r*r*r\n",
    "    \n",
    "    s=int(s+m)\n",
    "    \n",
    "    t=int(t/10)\n",
    "    \n",
    "if n==s:\n",
    "    print(n,'given no is armstrong no')\n",
    "else:\n",
    "    print(n,'no is not a armstrong no')"
   ]
  },
  {
   "cell_type": "code",
   "execution_count": null,
   "metadata": {},
   "outputs": [],
   "source": []
  }
 ],
 "metadata": {
  "kernelspec": {
   "display_name": "Python 3",
   "language": "python",
   "name": "python3"
  },
  "language_info": {
   "codemirror_mode": {
    "name": "ipython",
    "version": 3
   },
   "file_extension": ".py",
   "mimetype": "text/x-python",
   "name": "python",
   "nbconvert_exporter": "python",
   "pygments_lexer": "ipython3",
   "version": "3.7.1"
  }
 },
 "nbformat": 4,
 "nbformat_minor": 2
}
